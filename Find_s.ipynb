{
 "cells": [
  {
   "cell_type": "code",
   "execution_count": 1,
   "id": "e9127fde-4504-4582-92dd-fd5df3687aae",
   "metadata": {},
   "outputs": [],
   "source": [
    "import numpy as np"
   ]
  },
  {
   "cell_type": "code",
   "execution_count": 2,
   "id": "d5dd047d-f3ff-445b-8ebe-4aab7f216b4c",
   "metadata": {
    "scrolled": true
   },
   "outputs": [],
   "source": [
    "data = np.array([\n",
    "    [\"Sunny\", \"Warm\", \"Normal\", \"Strong\", \"Warm\", \"Same\", \"yes\"],\n",
    "    [\"Sunny\", \"Warm\", \"High\", \"Strong\", \"Warm\", \"Same\", \"yes\"],\n",
    "    [\"Rainy\", \"Cold\", \"High\", \"Strong\", \"Warm\", \"Change\", \"no\"],\n",
    "    [\"Sunny\", \"Warm\", \"High\", \"Strong\", \"Cool\", \"Change\", \"yes\"],\n",
    "])"
   ]
  },
  {
   "cell_type": "code",
   "execution_count": 3,
   "id": "b22716f8-2fbc-4f39-b3af-2abfd7a5210c",
   "metadata": {},
   "outputs": [],
   "source": [
    "def find_s(dataset):\n",
    "    hypothesis=dataset[0,:-1]\n",
    "    for example in dataset:\n",
    "        if example[-1]==\"yes\":\n",
    "            for i in range(len(hypothesis)):\n",
    "                if(hypothesis[i]!=example[i]):\n",
    "                    hypothesis[i]=\"?\"\n",
    "    return hypothesis"
   ]
  },
  {
   "cell_type": "code",
   "execution_count": 4,
   "id": "a8fc7b89-3a54-4352-b05a-3efb22f49c09",
   "metadata": {},
   "outputs": [
    {
     "name": "stdout",
     "output_type": "stream",
     "text": [
      "['Sunny' 'Warm' '?' 'Strong' '?' '?']\n"
     ]
    }
   ],
   "source": [
    "hypothesis=find_s(data)\n",
    "print(hypothesis)"
   ]
  },
  {
   "cell_type": "code",
   "execution_count": null,
   "id": "0ab025d3-a6c1-45b9-bc93-8062a9975fa4",
   "metadata": {},
   "outputs": [],
   "source": []
  }
 ],
 "metadata": {
  "kernelspec": {
   "display_name": "Python [conda env:base] *",
   "language": "python",
   "name": "conda-base-py"
  },
  "language_info": {
   "codemirror_mode": {
    "name": "ipython",
    "version": 3
   },
   "file_extension": ".py",
   "mimetype": "text/x-python",
   "name": "python",
   "nbconvert_exporter": "python",
   "pygments_lexer": "ipython3",
   "version": "3.12.7"
  }
 },
 "nbformat": 4,
 "nbformat_minor": 5
}
