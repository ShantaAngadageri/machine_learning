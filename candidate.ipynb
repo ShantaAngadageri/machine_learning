{
 "cells": [
  {
   "cell_type": "code",
   "execution_count": 1,
   "id": "ed5547dc-961b-480c-b7c2-d8d7d8647747",
   "metadata": {},
   "outputs": [],
   "source": [
    "data = [\n",
    "    [\"Sunny\", \"Warm\", \"Normal\", \"Strong\", \"Warm\", \"Same\", \"yes\"],\n",
    "    [\"Sunny\", \"Warm\", \"High\", \"Strong\", \"Warm\", \"Same\", \"yes\"],\n",
    "    [\"Rainy\", \"Cold\", \"High\", \"Strong\", \"Warm\", \"Change\", \"no\"],\n",
    "    [\"Sunny\", \"Warm\", \"High\", \"Strong\", \"Cool\", \"Change\", \"yes\"]\n",
    "]"
   ]
  },
  {
   "cell_type": "code",
   "execution_count": 2,
   "id": "e7e4b6a6-68c7-42d0-b16b-86bb8449f420",
   "metadata": {},
   "outputs": [],
   "source": [
    "def candidate_elimination(data):\n",
    "    S = [\"Ø\"] * (len(data[0]) - 1)  \n",
    "    G = [[\"?\"] * (len(data[0]) - 1)] \n",
    "\n",
    "    for row in data:\n",
    "        attributes, label = row[:-1], row[-1]  \n",
    "\n",
    "        if label == \"yes\":  \n",
    "            for i in range(len(S)):\n",
    "                if S[i] == \"Ø\":  \n",
    "                    S[i] = attributes[i]\n",
    "                elif S[i] != attributes[i]:\n",
    "                    S[i] = \"?\"\n",
    "\n",
    "            G = [g for g in G if all(g[i] == \"?\" or g[i] == S[i] for i in range(len(S)))]\n",
    "\n",
    "        elif label == \"no\":  \n",
    "            new_G = []\n",
    "            for g in G:\n",
    "                for i in range(len(g)):\n",
    "                    if g[i] == \"?\":\n",
    "                        new_hypothesis = g[:]\n",
    "                        new_hypothesis[i] = attributes[i]\n",
    "                        new_G.append(new_hypothesis)\n",
    "            G = new_G\n",
    "\n",
    "    return S, G\n",
    "\n"
   ]
  },
  {
   "cell_type": "code",
   "execution_count": 3,
   "id": "1e13bbf4-9697-4375-b5ac-ae1992605db2",
   "metadata": {},
   "outputs": [],
   "source": [
    "S_final, G_final = candidate_elimination(data)\n"
   ]
  },
  {
   "cell_type": "code",
   "execution_count": 4,
   "id": "403ef4b0-f16d-4e26-9e03-a5416e014a90",
   "metadata": {},
   "outputs": [
    {
     "name": "stdout",
     "output_type": "stream",
     "text": [
      "Final Specific Hypothesis: ['Sunny', 'Warm', '?', 'Strong', '?', '?']\n",
      "Final General Hypothesis: [['?', '?', '?', 'Strong', '?', '?']]\n"
     ]
    }
   ],
   "source": [
    "\n",
    "print(\"Final Specific Hypothesis:\", S_final)\n",
    "print(\"Final General Hypothesis:\", G_final)"
   ]
  },
  {
   "cell_type": "code",
   "execution_count": null,
   "id": "45a50bab-9959-4bee-abec-7f945272d35b",
   "metadata": {},
   "outputs": [],
   "source": []
  }
 ],
 "metadata": {
  "kernelspec": {
   "display_name": "Python [conda env:base] *",
   "language": "python",
   "name": "conda-base-py"
  },
  "language_info": {
   "codemirror_mode": {
    "name": "ipython",
    "version": 3
   },
   "file_extension": ".py",
   "mimetype": "text/x-python",
   "name": "python",
   "nbconvert_exporter": "python",
   "pygments_lexer": "ipython3",
   "version": "3.12.7"
  }
 },
 "nbformat": 4,
 "nbformat_minor": 5
}
